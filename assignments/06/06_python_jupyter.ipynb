{
 "cells": [
  {
   "cell_type": "markdown",
   "metadata": {},
   "source": [
    "# DIS08 / OR92 Data Modeling: Python - Introduction (Setup, file management, etc.)"
   ]
  },
  {
   "cell_type": "markdown",
   "metadata": {},
   "source": [
    "In this lecture, we’ll cover and recap the basics of Python programming, including:\n",
    "\n",
    "- Python data structures: lists, tuples, dictionaries, and sets.\n",
    "- Basic file management: reading from and writing to files.\n",
    "- String handling: manipulation of text data and regular expressions.\n",
    "\n",
    "In the lab assignments, you will setup your Python development environment, rerun this notebook, and get started with the `pandas` library.\n",
    "\n",
    "If you would like to study Python more in-depth, we recommend the book [Automate the Boring Stuff With Python](https://automatetheboringstuff.com/). This book also inspired some of the contents in this notebook."
   ]
  },
  {
   "cell_type": "markdown",
   "metadata": {},
   "source": [
    "1. Basic Syntax"
   ]
  },
  {
   "cell_type": "code",
   "execution_count": 53,
   "metadata": {},
   "outputs": [],
   "source": [
    "# This is a comment in Python"
   ]
  },
  {
   "cell_type": "code",
   "execution_count": 54,
   "metadata": {},
   "outputs": [
    {
     "name": "stdout",
     "output_type": "stream",
     "text": [
      "Hello, World!\n"
     ]
    }
   ],
   "source": [
    "# Print \"Hello, World!\" to the console\n",
    "print(\"Hello, World!\")  "
   ]
  },
  {
   "cell_type": "code",
   "execution_count": 55,
   "metadata": {},
   "outputs": [
    {
     "data": {
      "text/plain": [
       "5"
      ]
     },
     "execution_count": 55,
     "metadata": {},
     "output_type": "execute_result"
    }
   ],
   "source": [
    "# Variable assignment\n",
    "x = 5  \n",
    "x"
   ]
  },
  {
   "cell_type": "markdown",
   "metadata": {},
   "source": [
    "2. Data Types"
   ]
  },
  {
   "cell_type": "code",
   "execution_count": 56,
   "metadata": {},
   "outputs": [
    {
     "data": {
      "text/plain": [
       "int"
      ]
     },
     "execution_count": 56,
     "metadata": {},
     "output_type": "execute_result"
    }
   ],
   "source": [
    "# Integer type\n",
    "integer_num = 10\n",
    "type(integer_num)"
   ]
  },
  {
   "cell_type": "code",
   "execution_count": 57,
   "metadata": {},
   "outputs": [
    {
     "data": {
      "text/plain": [
       "float"
      ]
     },
     "execution_count": 57,
     "metadata": {},
     "output_type": "execute_result"
    }
   ],
   "source": [
    "# Float type\n",
    "float_num = 3.14\n",
    "type(float_num)"
   ]
  },
  {
   "cell_type": "code",
   "execution_count": 58,
   "metadata": {},
   "outputs": [
    {
     "data": {
      "text/plain": [
       "str"
      ]
     },
     "execution_count": 58,
     "metadata": {},
     "output_type": "execute_result"
    }
   ],
   "source": [
    "# String type\n",
    "str_val = \"Python\"\n",
    "type(str_val)"
   ]
  },
  {
   "cell_type": "markdown",
   "metadata": {},
   "source": [
    "3. Basic Operators"
   ]
  },
  {
   "cell_type": "code",
   "execution_count": 59,
   "metadata": {},
   "outputs": [],
   "source": [
    "a = 10\n",
    "b = 3"
   ]
  },
  {
   "cell_type": "code",
   "execution_count": 60,
   "metadata": {},
   "outputs": [
    {
     "name": "stdout",
     "output_type": "stream",
     "text": [
      "13\n"
     ]
    }
   ],
   "source": [
    "# Addition\n",
    "print(a + b)"
   ]
  },
  {
   "cell_type": "code",
   "execution_count": 61,
   "metadata": {},
   "outputs": [
    {
     "name": "stdout",
     "output_type": "stream",
     "text": [
      "7\n"
     ]
    }
   ],
   "source": [
    "# Subtraction\n",
    "print(a - b)"
   ]
  },
  {
   "cell_type": "code",
   "execution_count": 62,
   "metadata": {},
   "outputs": [
    {
     "name": "stdout",
     "output_type": "stream",
     "text": [
      "30\n"
     ]
    }
   ],
   "source": [
    "# Multiplication\n",
    "print(a * b)"
   ]
  },
  {
   "cell_type": "code",
   "execution_count": 63,
   "metadata": {},
   "outputs": [
    {
     "name": "stdout",
     "output_type": "stream",
     "text": [
      "3.3333333333333335\n"
     ]
    }
   ],
   "source": [
    "# Division\n",
    "print(a / b)"
   ]
  },
  {
   "cell_type": "code",
   "execution_count": 64,
   "metadata": {},
   "outputs": [
    {
     "name": "stdout",
     "output_type": "stream",
     "text": [
      "1\n"
     ]
    }
   ],
   "source": [
    "# Modulus (remainder)\n",
    "print(a % b)"
   ]
  },
  {
   "cell_type": "code",
   "execution_count": 65,
   "metadata": {},
   "outputs": [
    {
     "name": "stdout",
     "output_type": "stream",
     "text": [
      "1000\n"
     ]
    }
   ],
   "source": [
    "# Exponentiation\n",
    "print(a ** b)"
   ]
  },
  {
   "cell_type": "markdown",
   "metadata": {},
   "source": [
    "4. Control Structures"
   ]
  },
  {
   "cell_type": "code",
   "execution_count": 66,
   "metadata": {},
   "outputs": [
    {
     "name": "stdout",
     "output_type": "stream",
     "text": [
      "Positive\n"
     ]
    }
   ],
   "source": [
    "# If-Else statement\n",
    "x = 5\n",
    "if x > 0:\n",
    "    print(\"Positive\")\n",
    "elif x < 0:\n",
    "    print(\"Negative\")\n",
    "else:\n",
    "    print(\"Zero\")\n"
   ]
  },
  {
   "cell_type": "code",
   "execution_count": 67,
   "metadata": {},
   "outputs": [
    {
     "name": "stdout",
     "output_type": "stream",
     "text": [
      "0\n",
      "1\n",
      "2\n",
      "3\n",
      "4\n"
     ]
    }
   ],
   "source": [
    "# For loop\n",
    "for i in range(5):\n",
    "    print(i)"
   ]
  },
  {
   "cell_type": "code",
   "execution_count": 68,
   "metadata": {},
   "outputs": [
    {
     "name": "stdout",
     "output_type": "stream",
     "text": [
      "0\n",
      "1\n",
      "2\n",
      "3\n",
      "4\n"
     ]
    }
   ],
   "source": [
    "# While loop\n",
    "i = 0\n",
    "while i < 5:\n",
    "    print(i)\n",
    "    i += 1"
   ]
  },
  {
   "cell_type": "markdown",
   "metadata": {},
   "source": [
    "## Data Structures"
   ]
  },
  {
   "cell_type": "code",
   "execution_count": 69,
   "metadata": {},
   "outputs": [
    {
     "name": "stdout",
     "output_type": "stream",
     "text": [
      "1\n",
      "6\n",
      "John\n",
      "{'cherry', 'banana', 'apple'}\n"
     ]
    }
   ],
   "source": [
    "# List\n",
    "my_list = [1, 2, 3, 4, 5]\n",
    "print(my_list[0])  # Accessing elements\n",
    "\n",
    "# Tuple (immutable list)\n",
    "my_tuple = (6, 7, 8)\n",
    "print(my_tuple[0])\n",
    "\n",
    "# Dictionary (key-value pairs)\n",
    "my_dict = {\"name\": \"John\", \"age\": 30, \"city\": \"New York\"}\n",
    "print(my_dict[\"name\"])\n",
    "\n",
    "# Set\n",
    "my_set = {\"apple\", \"banana\", \"cherry\"}\n",
    "print(my_set)\n",
    "\n"
   ]
  },
  {
   "cell_type": "markdown",
   "metadata": {},
   "source": [
    "A list is a collection which is ordered and changeable. It allows duplicate members."
   ]
  },
  {
   "cell_type": "code",
   "execution_count": 70,
   "metadata": {},
   "outputs": [
    {
     "name": "stdout",
     "output_type": "stream",
     "text": [
      "['apple', 'banana', 'cherry']\n",
      "['apple', 'banana', 'cherry', 'orange']\n",
      "banana\n",
      "['apple', 'cherry', 'orange']\n"
     ]
    }
   ],
   "source": [
    "# Creating a list\n",
    "fruits = [\"apple\", \"banana\", \"cherry\"]\n",
    "print(fruits)\n",
    "\n",
    "# Adding an item\n",
    "fruits.append(\"orange\")\n",
    "print(fruits)\n",
    "\n",
    "# Accessing items\n",
    "print(fruits[1])\n",
    "\n",
    "# Removing an item\n",
    "fruits.remove(\"banana\")\n",
    "print(fruits)"
   ]
  },
  {
   "cell_type": "markdown",
   "metadata": {},
   "source": [
    "A tuple is a collection which is ordered but unchangeable (immutable). It allows duplicate members."
   ]
  },
  {
   "cell_type": "code",
   "execution_count": 71,
   "metadata": {},
   "outputs": [
    {
     "name": "stdout",
     "output_type": "stream",
     "text": [
      "('apple', 'banana', 'cherry')\n",
      "banana\n"
     ]
    }
   ],
   "source": [
    "# Creating a tuple\n",
    "my_tuple = (\"apple\", \"banana\", \"cherry\")\n",
    "print(my_tuple)\n",
    "\n",
    "# Accessing items\n",
    "print(my_tuple[1])\n",
    "\n",
    "# Tuples are immutable, so the following code will cause an error:\n",
    "# my_tuple[1] = \"orange\""
   ]
  },
  {
   "cell_type": "markdown",
   "metadata": {},
   "source": [
    "A dictionary is a collection which is unordered, changeable, and indexed. It does not allow duplicates."
   ]
  },
  {
   "cell_type": "code",
   "execution_count": 72,
   "metadata": {},
   "outputs": [
    {
     "name": "stdout",
     "output_type": "stream",
     "text": [
      "{'name': 'Alice', 'age': 25, 'city': 'New York'}\n",
      "Alice\n",
      "{'name': 'Alice', 'age': 26, 'city': 'New York'}\n"
     ]
    }
   ],
   "source": [
    "# Creating a dictionary\n",
    "person = {\n",
    "    \"name\": \"Alice\",\n",
    "    \"age\": 25,\n",
    "    \"city\": \"New York\"\n",
    "}\n",
    "print(person)\n",
    "\n",
    "# Accessing values\n",
    "print(person[\"name\"])\n",
    "\n",
    "# Modifying a value\n",
    "person[\"age\"] = 26\n",
    "print(person)"
   ]
  },
  {
   "cell_type": "markdown",
   "metadata": {},
   "source": [
    "6. Functions"
   ]
  },
  {
   "cell_type": "code",
   "execution_count": 73,
   "metadata": {},
   "outputs": [
    {
     "name": "stdout",
     "output_type": "stream",
     "text": [
      "Hello, Alice!\n"
     ]
    }
   ],
   "source": [
    "def greet(name):\n",
    "    \"\"\"This function greets the person passed in as parameter\"\"\"\n",
    "    print(f\"Hello, {name}!\")\n",
    "\n",
    "greet(\"Alice\")  # Output: Hello, Alice!"
   ]
  },
  {
   "cell_type": "markdown",
   "metadata": {},
   "source": [
    "A set is a collection which is unordered, unindexed, and does not allow duplicate members."
   ]
  },
  {
   "cell_type": "code",
   "execution_count": 74,
   "metadata": {},
   "outputs": [
    {
     "name": "stdout",
     "output_type": "stream",
     "text": [
      "{'cherry', 'banana', 'apple'}\n",
      "{'cherry', 'orange', 'banana', 'apple'}\n",
      "{'cherry', 'orange', 'apple'}\n"
     ]
    }
   ],
   "source": [
    "# Creating a set\n",
    "my_set = {\"apple\", \"banana\", \"cherry\"}\n",
    "print(my_set)\n",
    "\n",
    "# Adding an item\n",
    "my_set.add(\"orange\")\n",
    "print(my_set)\n",
    "\n",
    "# Removing an item\n",
    "my_set.remove(\"banana\")\n",
    "print(my_set)"
   ]
  },
  {
   "cell_type": "markdown",
   "metadata": {},
   "source": [
    "## Basic File Management in Python"
   ]
  },
  {
   "cell_type": "markdown",
   "metadata": {},
   "source": [
    "You can also use many command line tools in a Jupyter notebook. We use `echo` to create a first text file."
   ]
  },
  {
   "cell_type": "code",
   "execution_count": 75,
   "metadata": {},
   "outputs": [],
   "source": [
    "!echo \"This is the beginning of a new file!\\n\" >> example.txt"
   ]
  },
  {
   "cell_type": "markdown",
   "metadata": {},
   "source": [
    "To read a file, use the open() function in reading mode ('r')."
   ]
  },
  {
   "cell_type": "code",
   "execution_count": 76,
   "metadata": {},
   "outputs": [
    {
     "name": "stdout",
     "output_type": "stream",
     "text": [
      "Hello, World!\n",
      "This is a new line.\n",
      "This is an appended line.\"This is the beginning of a new file!\\n\" \n",
      "\n"
     ]
    }
   ],
   "source": [
    "# Reading from a file\n",
    "file = open(\"example.txt\", \"r\")\n",
    "\n",
    "# Read the entire content of the file\n",
    "content = file.read()\n",
    "print(content)\n",
    "\n",
    "# Always remember to close the file after you're done\n",
    "file.close()"
   ]
  },
  {
   "cell_type": "markdown",
   "metadata": {},
   "source": [
    "To write to a file, use the open() function in write mode ('w')."
   ]
  },
  {
   "cell_type": "code",
   "execution_count": 77,
   "metadata": {},
   "outputs": [],
   "source": [
    "# Writing to a file\n",
    "file = open(\"example.txt\", \"w\")\n",
    "file.write(\"Hello, World!\\nThis is a new line.\")\n",
    "file.close()"
   ]
  },
  {
   "cell_type": "markdown",
   "metadata": {},
   "source": [
    "You can also append data to an existing file using append mode ('a')."
   ]
  },
  {
   "cell_type": "code",
   "execution_count": 78,
   "metadata": {},
   "outputs": [],
   "source": [
    "# Appending to a file\n",
    "file = open(\"example.txt\", \"a\")\n",
    "file.write(\"\\nThis is an appended line.\")\n",
    "file.close()"
   ]
  },
  {
   "cell_type": "markdown",
   "metadata": {},
   "source": [
    "It’s a good practice to use the `with` statement when working with files to ensure the file is properly closed after the operations."
   ]
  },
  {
   "cell_type": "code",
   "execution_count": 79,
   "metadata": {},
   "outputs": [
    {
     "name": "stdout",
     "output_type": "stream",
     "text": [
      "Hello, World!\n",
      "This is a new line.\n",
      "This is an appended line.\n"
     ]
    }
   ],
   "source": [
    "# Using 'with' statement to open and read a file\n",
    "with open(\"example.txt\", \"r\") as file:\n",
    "    content = file.read()\n",
    "    print(content)"
   ]
  },
  {
   "cell_type": "markdown",
   "metadata": {},
   "source": [
    "## String Handling in Python"
   ]
  },
  {
   "cell_type": "markdown",
   "metadata": {},
   "source": [
    "Python provides a variety of methods for manipulating and handling strings."
   ]
  },
  {
   "cell_type": "code",
   "execution_count": 80,
   "metadata": {},
   "outputs": [
    {
     "name": "stdout",
     "output_type": "stream",
     "text": [
      "Hello, Alice!\n"
     ]
    }
   ],
   "source": [
    "# Concatenating strings\n",
    "greeting = \"Hello\"\n",
    "name = \"Alice\"\n",
    "message = greeting + \", \" + name + \"!\"\n",
    "print(message)"
   ]
  },
  {
   "cell_type": "markdown",
   "metadata": {},
   "source": [
    "**String Formatting:** You can format strings using the format() method or f-strings (in Python 3.6+)."
   ]
  },
  {
   "cell_type": "code",
   "execution_count": 81,
   "metadata": {},
   "outputs": [
    {
     "name": "stdout",
     "output_type": "stream",
     "text": [
      "Hello, Alice!\n",
      "Hello, Alice!\n"
     ]
    }
   ],
   "source": [
    "# Using format method\n",
    "message = \"Hello, {}!\".format(name)\n",
    "print(message)\n",
    "\n",
    "# Using f-strings (Python 3.6+)\n",
    "message = f\"Hello, {name}!\"\n",
    "print(message)"
   ]
  },
  {
   "cell_type": "markdown",
   "metadata": {},
   "source": [
    "**String Methods:** Some common string methods in Python include upper(), lower(), replace(), and split()."
   ]
  },
  {
   "cell_type": "code",
   "execution_count": 82,
   "metadata": {},
   "outputs": [
    {
     "name": "stdout",
     "output_type": "stream",
     "text": [
      "HELLO, WORLD!\n",
      "hello, world!\n",
      "Hello, Python!\n",
      "['Hello', 'World!']\n"
     ]
    }
   ],
   "source": [
    "# Changing case\n",
    "text = \"Hello, World!\"\n",
    "print(text.upper())\n",
    "print(text.lower())\n",
    "\n",
    "# Replacing parts of a string\n",
    "print(text.replace(\"World\", \"Python\"))\n",
    "\n",
    "# Splitting a string\n",
    "words = text.split(\", \")\n",
    "print(words)"
   ]
  },
  {
   "cell_type": "markdown",
   "metadata": {},
   "source": [
    "**Regular expressions:** The re.search() function searches for a match in a string."
   ]
  },
  {
   "cell_type": "code",
   "execution_count": 83,
   "metadata": {},
   "outputs": [
    {
     "name": "stdout",
     "output_type": "stream",
     "text": [
      "Match found!\n"
     ]
    }
   ],
   "source": [
    "import re\n",
    "\n",
    "# Search for the word 'Python' in a string\n",
    "text = \"Welcome to Python programming!\"\n",
    "pattern = \"Python\"\n",
    "\n",
    "# Search for the pattern\n",
    "match = re.search(pattern, text)\n",
    "\n",
    "# The re.search() function looks for the word “Python” in the text. If found, it returns a match object, otherwise None.\n",
    "if match:\n",
    "    print(\"Match found!\")\n",
    "else:\n",
    "    print(\"No match.\")"
   ]
  },
  {
   "cell_type": "markdown",
   "metadata": {},
   "source": [
    "## Quiz time!"
   ]
  },
  {
   "cell_type": "markdown",
   "metadata": {},
   "source": [
    "**Question:** What will be the output of the following code?"
   ]
  },
  {
   "cell_type": "code",
   "execution_count": 84,
   "metadata": {},
   "outputs": [
    {
     "name": "stdout",
     "output_type": "stream",
     "text": [
      "banana\n"
     ]
    }
   ],
   "source": [
    "fruits = [\"apple\", \"banana\", \"cherry\"]\n",
    "fruits.append(\"orange\")\n",
    "print(fruits[1])"
   ]
  },
  {
   "cell_type": "markdown",
   "metadata": {},
   "source": [
    "A) \"apple\"  \n",
    "B) \"banana\"  \n",
    "C) \"cherry\"  \n",
    "D) [\"apple\", \"banana\", \"cherry\", \"orange\"]"
   ]
  },
  {
   "cell_type": "markdown",
   "metadata": {},
   "source": [
    "**Question:** What error will the following code produce?"
   ]
  },
  {
   "cell_type": "code",
   "execution_count": 85,
   "metadata": {},
   "outputs": [
    {
     "ename": "TypeError",
     "evalue": "'tuple' object does not support item assignment",
     "output_type": "error",
     "traceback": [
      "\u001b[1;31m---------------------------------------------------------------------------\u001b[0m",
      "\u001b[1;31mTypeError\u001b[0m                                 Traceback (most recent call last)",
      "Cell \u001b[1;32mIn[85], line 2\u001b[0m\n\u001b[0;32m      1\u001b[0m colors \u001b[38;5;241m=\u001b[39m (\u001b[38;5;124m\"\u001b[39m\u001b[38;5;124mred\u001b[39m\u001b[38;5;124m\"\u001b[39m, \u001b[38;5;124m\"\u001b[39m\u001b[38;5;124mgreen\u001b[39m\u001b[38;5;124m\"\u001b[39m, \u001b[38;5;124m\"\u001b[39m\u001b[38;5;124mblue\u001b[39m\u001b[38;5;124m\"\u001b[39m)\n\u001b[1;32m----> 2\u001b[0m \u001b[43mcolors\u001b[49m\u001b[43m[\u001b[49m\u001b[38;5;241;43m1\u001b[39;49m\u001b[43m]\u001b[49m \u001b[38;5;241m=\u001b[39m \u001b[38;5;124m\"\u001b[39m\u001b[38;5;124myellow\u001b[39m\u001b[38;5;124m\"\u001b[39m\n",
      "\u001b[1;31mTypeError\u001b[0m: 'tuple' object does not support item assignment"
     ]
    }
   ],
   "source": [
    "colors = (\"red\", \"green\", \"blue\")\n",
    "colors[1] = \"yellow\""
   ]
  },
  {
   "cell_type": "markdown",
   "metadata": {},
   "source": [
    "A) TypeError: 'tuple' object does not support item assignment  \n",
    "B) IndexError: tuple index out of range  \n",
    "C) No error, it works fine  \n",
    "D) AttributeError: 'tuple' object has no attribute 'append'"
   ]
  },
  {
   "cell_type": "markdown",
   "metadata": {},
   "source": [
    "**Question:** What will be the value of car[\"year\"] after running the following code?"
   ]
  },
  {
   "cell_type": "code",
   "execution_count": null,
   "metadata": {},
   "outputs": [
    {
     "name": "stdout",
     "output_type": "stream",
     "text": [
      "2022\n"
     ]
    }
   ],
   "source": [
    "car = {\n",
    "    \"brand\": \"Ford\",\n",
    "    \"model\": \"Mustang\",\n",
    "    \"year\": 1964\n",
    "}\n",
    "car[\"year\"] = 2022\n",
    "print(car[\"year\"])"
   ]
  },
  {
   "cell_type": "markdown",
   "metadata": {},
   "source": [
    "A) 1964  \n",
    "B) 2022\n",
    "C) None  \n",
    "D) KeyError: 'year'"
   ]
  },
  {
   "cell_type": "markdown",
   "metadata": {},
   "source": [
    "**Question:** What will happen if the following code is executed, and example.txt doesn’t exist in the directory?"
   ]
  },
  {
   "cell_type": "code",
   "execution_count": null,
   "metadata": {},
   "outputs": [
    {
     "name": "stdout",
     "output_type": "stream",
     "text": [
      "Hello, World!\n",
      "This is a new line.\n",
      "This is an appended line.\n"
     ]
    }
   ],
   "source": [
    "with open(\"example.txt\", \"r\") as file:\n",
    "    content = file.read()\n",
    "    print(content)"
   ]
  },
  {
   "cell_type": "markdown",
   "metadata": {},
   "source": [
    "A) It will create a new file named example.txt.  \n",
    ">B) It will throw a FileNotFoundError.  \n",
    "\n",
    "C) It will print an empty string.  \n",
    "D) It will print None.  "
   ]
  },
  {
   "cell_type": "markdown",
   "metadata": {},
   "source": [
    "**Question:** What will be the value of message in the following code?"
   ]
  },
  {
   "cell_type": "code",
   "execution_count": null,
   "metadata": {},
   "outputs": [
    {
     "name": "stdout",
     "output_type": "stream",
     "text": [
      "Hello, Alice!\n"
     ]
    }
   ],
   "source": [
    "name = \"Alice\"\n",
    "greeting = \"Hello\"\n",
    "message = greeting + \", \" + name + \"!\"\n",
    "print(message)"
   ]
  },
  {
   "cell_type": "markdown",
   "metadata": {},
   "source": [
    "A) \"Hello Alice\"  \n",
    "B) \"Hello, Alice!\"  \n",
    "C) \"Hello Alice!\"  \n",
    "D) \", Alice!\""
   ]
  },
  {
   "cell_type": "markdown",
   "metadata": {},
   "source": [
    "**Question:** What will the following code output?"
   ]
  },
  {
   "cell_type": "code",
   "execution_count": null,
   "metadata": {},
   "outputs": [
    {
     "name": "stdout",
     "output_type": "stream",
     "text": [
      "WELCOME TO PYTHON\n"
     ]
    }
   ],
   "source": [
    "text = \"Welcome to Python\"\n",
    "print(text.upper())"
   ]
  },
  {
   "cell_type": "markdown",
   "metadata": {},
   "source": [
    "A) WELCOME TO PYTHON  \n",
    "B) welcome to python  \n",
    "C) Welcome To Python  \n",
    "D) Welcome to python"
   ]
  },
  {
   "cell_type": "markdown",
   "metadata": {},
   "source": [
    "**Question:** What happens if you try to add a duplicate item to a set?"
   ]
  },
  {
   "cell_type": "code",
   "execution_count": null,
   "metadata": {},
   "outputs": [
    {
     "name": "stdout",
     "output_type": "stream",
     "text": [
      "{'cherry', 'banana', 'apple'}\n"
     ]
    }
   ],
   "source": [
    "my_set = {\"apple\", \"banana\", \"cherry\"}\n",
    "my_set.add(\"banana\")\n",
    "print(my_set)"
   ]
  },
  {
   "cell_type": "markdown",
   "metadata": {},
   "source": [
    "A) The set will now contain two \"banana\" items.  \n",
    "B) The set will raise an error.  \n",
    ">C) The set will remain unchanged.  \n",
    " \n",
    "D) The set will reorder itself."
   ]
  },
  {
   "cell_type": "markdown",
   "metadata": {},
   "source": [
    "**Question:** What is the correct way to format a string using f-strings in the following code?"
   ]
  },
  {
   "cell_type": "code",
   "execution_count": null,
   "metadata": {},
   "outputs": [
    {
     "name": "stdout",
     "output_type": "stream",
     "text": [
      "My name is ... and I am ... years old.\n"
     ]
    }
   ],
   "source": [
    "name = \"Alice\"\n",
    "age = 25\n",
    "message = f\"My name is ... and I am ... years old.\"\n",
    "print(message)"
   ]
  },
  {
   "cell_type": "markdown",
   "metadata": {},
   "source": [
    "A) f\"My name is {name} and I am {age} years old.\"  \n",
    "B) f\"My name is name and I am age years old.\"  \n",
    "> C) \"My name is {name} and I am {age} years old.\"\n",
    "\n",
    "D) \"My name is name and I am age years old.\""
   ]
  },
  {
   "cell_type": "markdown",
   "metadata": {},
   "source": [
    "**Question:** What will be the output of the following code?"
   ]
  },
  {
   "cell_type": "code",
   "execution_count": null,
   "metadata": {},
   "outputs": [
    {
     "name": "stdout",
     "output_type": "stream",
     "text": [
      "40\n"
     ]
    }
   ],
   "source": [
    "numbers = [10, 20, 30, 40, 50]\n",
    "print(numbers[-2])"
   ]
  },
  {
   "cell_type": "markdown",
   "metadata": {},
   "source": [
    "A) 20  \n",
    "B) 40  \n",
    "C) 30  \n",
    "D) 50\n"
   ]
  },
  {
   "cell_type": "markdown",
   "metadata": {},
   "source": [
    "**Question:** What will the following code output?"
   ]
  },
  {
   "cell_type": "code",
   "execution_count": null,
   "metadata": {},
   "outputs": [
    {
     "name": "stdout",
     "output_type": "stream",
     "text": [
      "False\n"
     ]
    }
   ],
   "source": [
    "person = {\n",
    "    \"name\": \"John\",\n",
    "    \"age\": 30\n",
    "}\n",
    "print(\"height\" in person)"
   ]
  },
  {
   "cell_type": "markdown",
   "metadata": {},
   "source": [
    "A) True  \n",
    "B) False  \n",
    "C) None  \n",
    "D) KeyError: 'height'"
   ]
  },
  {
   "cell_type": "markdown",
   "metadata": {},
   "source": [
    "## Lab Assignments\n",
    "\n",
    "Download this notebook from Moodle and rerun the examples from today's lecture. If you can execute all of the code cells above you are done! The setup guide below will help you to get started!\n",
    "\n",
    "Once, you have setup your Python/Jupyter environment, please do the following task:\n",
    "\n",
    "- Download this [dataset](https://librarycarpentry.org/lc-python-intro/files/data.zip) and extract it (do not commit it to this repository).\n",
    "- Get familiar with the [pandas](https://pandas.pydata.org/) library and install it in your Python environment.\n",
    "- Load one or more of the CSV files in the data/ directory as a DataFrame.\n",
    "- Use the functions `info()`, `head()`, `tail()`, `describe()`, and the variable `columns` to get some basic information about the data. Also document and describe the outputs.\n",
    "- How do you get the first/last ten rows of the DataFrame?\n",
    "- How do you get the rows between row 30 and row 40?\n",
    "- How do you get a specific column, e.g., 'year'? What kind of `type()` has the column?\n",
    "- What is the `*.pkl` file? How do load it into your program and what are the data contents in it?\n",
    "- What is the purpose of `.loc()` and `.iloc()`?\n",
    "- How do you sort values in a column?\n",
    "\n",
    "When you have completed the tasks, please commit this notebook to your GitHub repository in the directory `assignments/06/`.\n"
   ]
  },
  {
   "cell_type": "code",
   "execution_count": null,
   "metadata": {},
   "outputs": [],
   "source": [
    "import pandas as pd\n",
    "# Defining the File Path\n",
    "file_path = r\"C:\\Users\\davio\\myenv\\data\\2011_circ.csv\"\n",
    "# Reading the CSV File into a DataFrame\n",
    "df = pd.read_csv(file_path)\n",
    " "
   ]
  },
  {
   "cell_type": "code",
   "execution_count": null,
   "metadata": {},
   "outputs": [],
   "source": [
    "df.info()\n",
    "# The output of df.info() shows that the DataFrame has 80 rows and 17 columns.\n",
    "# It contains 3 object columns (text), 1 float64 column (\"zip code\"), and 13 int64 columns (monthly and \"ytd\" data).\n",
    "# All columns have no missing values. The DataFrame uses about 10.8 KB of memory.\n"
   ]
  },
  {
   "cell_type": "code",
   "execution_count": 102,
   "metadata": {},
   "outputs": [
    {
     "data": {
      "text/html": [
       "<div>\n",
       "<style scoped>\n",
       "    .dataframe tbody tr th:only-of-type {\n",
       "        vertical-align: middle;\n",
       "    }\n",
       "\n",
       "    .dataframe tbody tr th {\n",
       "        vertical-align: top;\n",
       "    }\n",
       "\n",
       "    .dataframe thead th {\n",
       "        text-align: right;\n",
       "    }\n",
       "</style>\n",
       "<table border=\"1\" class=\"dataframe\">\n",
       "  <thead>\n",
       "    <tr style=\"text-align: right;\">\n",
       "      <th></th>\n",
       "      <th>branch</th>\n",
       "      <th>address</th>\n",
       "      <th>city</th>\n",
       "      <th>zip code</th>\n",
       "      <th>january</th>\n",
       "      <th>february</th>\n",
       "      <th>march</th>\n",
       "      <th>april</th>\n",
       "      <th>may</th>\n",
       "      <th>june</th>\n",
       "      <th>july</th>\n",
       "      <th>august</th>\n",
       "      <th>september</th>\n",
       "      <th>october</th>\n",
       "      <th>november</th>\n",
       "      <th>december</th>\n",
       "      <th>ytd</th>\n",
       "    </tr>\n",
       "  </thead>\n",
       "  <tbody>\n",
       "    <tr>\n",
       "      <th>0</th>\n",
       "      <td>Albany Park</td>\n",
       "      <td>5150 N. Kimball Ave.</td>\n",
       "      <td>Chicago</td>\n",
       "      <td>60625.0</td>\n",
       "      <td>8427</td>\n",
       "      <td>7023</td>\n",
       "      <td>9702</td>\n",
       "      <td>9344</td>\n",
       "      <td>8865</td>\n",
       "      <td>11650</td>\n",
       "      <td>11778</td>\n",
       "      <td>11306</td>\n",
       "      <td>10466</td>\n",
       "      <td>10997</td>\n",
       "      <td>10567</td>\n",
       "      <td>9934</td>\n",
       "      <td>120059</td>\n",
       "    </tr>\n",
       "    <tr>\n",
       "      <th>1</th>\n",
       "      <td>Altgeld</td>\n",
       "      <td>13281 S. Corliss Ave.</td>\n",
       "      <td>Chicago</td>\n",
       "      <td>60827.0</td>\n",
       "      <td>1258</td>\n",
       "      <td>708</td>\n",
       "      <td>854</td>\n",
       "      <td>804</td>\n",
       "      <td>816</td>\n",
       "      <td>870</td>\n",
       "      <td>713</td>\n",
       "      <td>480</td>\n",
       "      <td>702</td>\n",
       "      <td>927</td>\n",
       "      <td>787</td>\n",
       "      <td>692</td>\n",
       "      <td>9611</td>\n",
       "    </tr>\n",
       "    <tr>\n",
       "      <th>2</th>\n",
       "      <td>Archer Heights</td>\n",
       "      <td>5055 S. Archer Ave.</td>\n",
       "      <td>Chicago</td>\n",
       "      <td>60632.0</td>\n",
       "      <td>8104</td>\n",
       "      <td>6899</td>\n",
       "      <td>9329</td>\n",
       "      <td>9124</td>\n",
       "      <td>7472</td>\n",
       "      <td>8314</td>\n",
       "      <td>8116</td>\n",
       "      <td>9177</td>\n",
       "      <td>9033</td>\n",
       "      <td>9709</td>\n",
       "      <td>8809</td>\n",
       "      <td>7865</td>\n",
       "      <td>101951</td>\n",
       "    </tr>\n",
       "    <tr>\n",
       "      <th>3</th>\n",
       "      <td>Austin</td>\n",
       "      <td>5615 W. Race Ave.</td>\n",
       "      <td>Chicago</td>\n",
       "      <td>60644.0</td>\n",
       "      <td>1755</td>\n",
       "      <td>1316</td>\n",
       "      <td>1942</td>\n",
       "      <td>2200</td>\n",
       "      <td>2133</td>\n",
       "      <td>2359</td>\n",
       "      <td>2080</td>\n",
       "      <td>2405</td>\n",
       "      <td>2417</td>\n",
       "      <td>2571</td>\n",
       "      <td>2233</td>\n",
       "      <td>2116</td>\n",
       "      <td>25527</td>\n",
       "    </tr>\n",
       "    <tr>\n",
       "      <th>4</th>\n",
       "      <td>Austin-Irving</td>\n",
       "      <td>6100 W. Irving Park Rd.</td>\n",
       "      <td>Chicago</td>\n",
       "      <td>60634.0</td>\n",
       "      <td>12593</td>\n",
       "      <td>11791</td>\n",
       "      <td>14807</td>\n",
       "      <td>14382</td>\n",
       "      <td>11754</td>\n",
       "      <td>14402</td>\n",
       "      <td>14605</td>\n",
       "      <td>15164</td>\n",
       "      <td>14306</td>\n",
       "      <td>15357</td>\n",
       "      <td>14069</td>\n",
       "      <td>12404</td>\n",
       "      <td>165634</td>\n",
       "    </tr>\n",
       "  </tbody>\n",
       "</table>\n",
       "</div>"
      ],
      "text/plain": [
       "           branch                  address     city  zip code  january  \\\n",
       "0     Albany Park     5150 N. Kimball Ave.  Chicago   60625.0     8427   \n",
       "1         Altgeld    13281 S. Corliss Ave.  Chicago   60827.0     1258   \n",
       "2  Archer Heights      5055 S. Archer Ave.  Chicago   60632.0     8104   \n",
       "3          Austin        5615 W. Race Ave.  Chicago   60644.0     1755   \n",
       "4   Austin-Irving  6100 W. Irving Park Rd.  Chicago   60634.0    12593   \n",
       "\n",
       "   february  march  april    may   june   july  august  september  october  \\\n",
       "0      7023   9702   9344   8865  11650  11778   11306      10466    10997   \n",
       "1       708    854    804    816    870    713     480        702      927   \n",
       "2      6899   9329   9124   7472   8314   8116    9177       9033     9709   \n",
       "3      1316   1942   2200   2133   2359   2080    2405       2417     2571   \n",
       "4     11791  14807  14382  11754  14402  14605   15164      14306    15357   \n",
       "\n",
       "   november  december     ytd  \n",
       "0     10567      9934  120059  \n",
       "1       787       692    9611  \n",
       "2      8809      7865  101951  \n",
       "3      2233      2116   25527  \n",
       "4     14069     12404  165634  "
      ]
     },
     "execution_count": 102,
     "metadata": {},
     "output_type": "execute_result"
    }
   ],
   "source": [
    "df.head()\n",
    "# This will display the first 5 rows of the DataFrame"
   ]
  },
  {
   "cell_type": "code",
   "execution_count": null,
   "metadata": {},
   "outputs": [],
   "source": [
    "df.tail()\n",
    "# This will display the last 5 rows of the DataFrame"
   ]
  },
  {
   "cell_type": "code",
   "execution_count": null,
   "metadata": {},
   "outputs": [],
   "source": [
    "df.describe()\n",
    "# This will provide statistical details"
   ]
  },
  {
   "cell_type": "code",
   "execution_count": null,
   "metadata": {},
   "outputs": [],
   "source": [
    "print(df.columns)\n",
    "# This will display a list of all the column names in the DataFrame.\n"
   ]
  },
  {
   "cell_type": "code",
   "execution_count": null,
   "metadata": {},
   "outputs": [],
   "source": [
    "# How do you get the first ten rows of the DataFrame?\n",
    "df.head(10)\n",
    "\n",
    "# Last 10 rows\n",
    "df.tail(10)"
   ]
  },
  {
   "cell_type": "code",
   "execution_count": null,
   "metadata": {},
   "outputs": [],
   "source": [
    "# Rows 30 -> 40\n",
    "df[30:41]"
   ]
  },
  {
   "cell_type": "code",
   "execution_count": null,
   "metadata": {},
   "outputs": [
    {
     "name": "stdout",
     "output_type": "stream",
     "text": [
      "<class 'pandas.core.series.Series'>\n",
      "0     8427\n",
      "1     1258\n",
      "2     8104\n",
      "3     1755\n",
      "4    12593\n",
      "Name: january, dtype: int64\n"
     ]
    }
   ],
   "source": [
    "# How do you get a specific column, e.g., 'year'? I used 'january'\n",
    "#  What kind of type() has the column\n",
    "january_column = df['january']\n",
    "print(type(january_column))\n",
    "print(january_column.head())\n"
   ]
  },
  {
   "cell_type": "code",
   "execution_count": null,
   "metadata": {},
   "outputs": [
    {
     "name": "stdout",
     "output_type": "stream",
     "text": [
      "             branch                  address     city  zip code  january  \\\n",
      "0       Albany Park     5150 N. Kimball Ave.  Chicago   60625.0     8427   \n",
      "1           Altgeld    13281 S. Corliss Ave.  Chicago   60827.0     1258   \n",
      "2    Archer Heights      5055 S. Archer Ave.  Chicago   60632.0     8104   \n",
      "3            Austin        5615 W. Race Ave.  Chicago   60644.0     1755   \n",
      "4     Austin-Irving  6100 W. Irving Park Rd.  Chicago   60634.0    12593   \n",
      "..              ...                      ...      ...       ...      ...   \n",
      "958       Chinatown   2100 S. Wentworth Ave.  Chicago   60616.0     4795   \n",
      "959        Brainerd         1350 W. 89th St.  Chicago   60620.0      255   \n",
      "960   Brighton Park      4314 S. Archer Ave.  Chicago   60632.0     1394   \n",
      "961   South Chicago     9055 S. Houston Ave.  Chicago   60617.0      496   \n",
      "962     Chicago Bee        3647 S. State St.  Chicago   60609.0      799   \n",
      "\n",
      "     february  march  april    may   june   july  august  september  october  \\\n",
      "0        7023   9702   9344   8865  11650  11778   11306      10466    10997   \n",
      "1         708    854    804    816    870    713     480        702      927   \n",
      "2        6899   9329   9124   7472   8314   8116    9177       9033     9709   \n",
      "3        1316   1942   2200   2133   2359   2080    2405       2417     2571   \n",
      "4       11791  14807  14382  11754  14402  14605   15164      14306    15357   \n",
      "..        ...    ...    ...    ...    ...    ...     ...        ...      ...   \n",
      "958      4258   5316   5343   4791   5367   5477    5362       4991     4847   \n",
      "959       264    370    386    399    421    337     373        361      276   \n",
      "960      1321   1327   1705   1609   1578   1609    1512       1425     1603   \n",
      "961       528    739    775    587    804    720     883        681      697   \n",
      "962       543    709    803    707    931    778     770        714      835   \n",
      "\n",
      "     november  december     ytd  year  \n",
      "0       10567      9934  120059  2011  \n",
      "1         787       692    9611  2011  \n",
      "2        8809      7865  101951  2011  \n",
      "3        2233      2116   25527  2011  \n",
      "4       14069     12404  165634  2011  \n",
      "..        ...       ...     ...   ...  \n",
      "958      4035      3957   58539  2022  \n",
      "959       256       201    3899  2022  \n",
      "960      1579      1278   17940  2022  \n",
      "961       799       615    8324  2022  \n",
      "962       718       788    9095  2022  \n",
      "\n",
      "[963 rows x 18 columns]\n"
     ]
    },
    {
     "name": "stderr",
     "output_type": "stream",
     "text": [
      "C:\\Users\\davio\\AppData\\Local\\Temp\\ipykernel_14468\\3087930607.py:5: DeprecationWarning: numpy.core.numeric is deprecated and has been renamed to numpy._core.numeric. The numpy._core namespace contains private NumPy internals and its use is discouraged, as NumPy internals can change without warning in any release. In practice, most real-world usage of numpy.core is to access functionality in the public NumPy API. If that is the case, use the public NumPy API. If not, you are using NumPy internals. If you would still like to access an internal attribute, use numpy._core.numeric._frombuffer.\n",
      "  data = pickle.load(f)\n"
     ]
    }
   ],
   "source": [
    "# A PKL file is a file saved in the Python pickle format, which contains serialized Python objects \n",
    "# The contents can vary but typically include Python objects like dictionaries, lists, or dataframes.\n",
    "\n",
    "import pickle\n",
    "\n",
    "# Load the .pkl file\n",
    "with open('C:/Users/davio/myenv/data/all_years.pkl', 'rb') as f:\n",
    "    data = pickle.load(f)\n",
    "\n",
    "# Inspect the contents\n",
    "print(data)\n"
   ]
  },
  {
   "cell_type": "code",
   "execution_count": null,
   "metadata": {},
   "outputs": [
    {
     "data": {
      "text/plain": [
       "'5150 N. Kimball Ave.'"
      ]
     },
     "execution_count": 109,
     "metadata": {},
     "output_type": "execute_result"
    }
   ],
   "source": [
    "#loc[]  is for accessing data by labels.\n",
    "\n",
    "df.loc[2, 'branch']\n",
    "\n",
    "# iloc[] is for accessing data by index positions\n",
    "\n",
    "df.iloc[0, 1]"
   ]
  },
  {
   "cell_type": "code",
   "execution_count": 110,
   "metadata": {},
   "outputs": [
    {
     "name": "stdout",
     "output_type": "stream",
     "text": [
      "                              branch                 address     city  \\\n",
      "21    Daley, Richard M. - W Humboldt      733 N. Kedzie Ave.  Chicago   \n",
      "29            Greater Grand Crossing        1000 E. 73rd St.  Chicago   \n",
      "23                           Dunning   7455 W. Cornelia Ave.  Chicago   \n",
      "42                    Little Village     2311 S. Kedzie Ave.  Chicago   \n",
      "27               Galewood-Mont Clare     6871 W. Belden Ave.  Chicago   \n",
      "..                               ...                     ...      ...   \n",
      "12              Bucktown-Wicker Park  1701 N. Milwaukee Ave.  Chicago   \n",
      "17                         Chinatown  2353 S. Wentworth Ave.  Chicago   \n",
      "40                   Lincoln Belmont     1659 W. Melrose St.  Chicago   \n",
      "64                   Sulzer Regional    4455 N. Lincoln Ave.  Chicago   \n",
      "31  Harold Washington Library Center        400 S. State St.  Chicago   \n",
      "\n",
      "    zip code  january  february  march  april    may   june   july  august  \\\n",
      "21   60612.0        0         0      3      5      3      0   5544    8248   \n",
      "29   60619.0        0         3    190    971   2463   3660   3503    4432   \n",
      "23   60634.0        0         0      1      5   6242   8177   8417    8336   \n",
      "42   60623.0        0         0      0      0      0      0      0       2   \n",
      "27   60707.0      519       546    758    760    572    847   1073    1188   \n",
      "..       ...      ...       ...    ...    ...    ...    ...    ...     ...   \n",
      "12   60647.0    13113     12220  15705  14535  14146  15115  14948   15804   \n",
      "17   60616.0    14027     11021  14094  14346  13080  13615  13609   13664   \n",
      "40   60657.0    14395     12810  17392  16567  14487  18539  17242   17970   \n",
      "64   60625.0    50375     42237  57391  50874  49563  53322  54941   56920   \n",
      "31   60605.0    79210     67574  89122  88527  82581  82100  80219   85193   \n",
      "\n",
      "    september  october  november  december     ytd  \n",
      "21       6748     6421      6207      5132   38311  \n",
      "29       3642     4142      3665      3251   29922  \n",
      "23       7218     8562      7516      6418   60892  \n",
      "42          0    15910     14632     11732   42276  \n",
      "27        807      823       781       544    9218  \n",
      "..        ...      ...       ...       ...     ...  \n",
      "12      15233    15428     14650     12499  173396  \n",
      "17      12098    13107     12661     13127  158449  \n",
      "40      16568    17209     16397     14692  194268  \n",
      "64      51054    54375     52274     46408  619734  \n",
      "31      81400    82236     79702     68856  966720  \n",
      "\n",
      "[80 rows x 17 columns]\n"
     ]
    }
   ],
   "source": [
    "# Sort values in the 'january' column in ascending order\n",
    "df_sorted = df.sort_values(by='january', ascending=True)\n",
    "print(df_sorted)"
   ]
  }
 ],
 "metadata": {
  "kernelspec": {
   "display_name": "Python 3",
   "language": "python",
   "name": "python3"
  },
  "language_info": {
   "codemirror_mode": {
    "name": "ipython",
    "version": 3
   },
   "file_extension": ".py",
   "mimetype": "text/x-python",
   "name": "python",
   "nbconvert_exporter": "python",
   "pygments_lexer": "ipython3",
   "version": "3.13.0"
  }
 },
 "nbformat": 4,
 "nbformat_minor": 2
}
